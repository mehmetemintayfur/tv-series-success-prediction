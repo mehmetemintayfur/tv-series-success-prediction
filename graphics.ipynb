{
 "cells": [
  {
   "cell_type": "code",
   "execution_count": null,
   "id": "ffeb1e35",
   "metadata": {},
   "outputs": [],
   "source": [
    "import pandas as pd\n",
    "import numpy as np\n",
    "from collections import defaultdict\n",
    "import matplotlib.pyplot as plt\n",
    "\n",
    "dosya_yolu = 'tv_series_dataset.csv' \n",
    "df = pd.read_csv(dosya_yolu)"
   ]
  },
  {
   "cell_type": "code",
   "execution_count": null,
   "id": "d6f64865",
   "metadata": {},
   "outputs": [],
   "source": [
    "df.info()"
   ]
  },
  {
   "cell_type": "code",
   "execution_count": null,
   "id": "f5a0c9ed",
   "metadata": {},
   "outputs": [],
   "source": [
    "import plotly.express as px\n",
    "pie = df[\"Platform\"].value_counts()\n",
    "channels = pie.index\n",
    "numbers = pie.values\n",
    "\n",
    "fig = px.pie(df, values=numbers, names=channels)\n",
    "fig.show()"
   ]
  },
  {
   "cell_type": "code",
   "execution_count": null,
   "id": "99464d79",
   "metadata": {},
   "outputs": [],
   "source": [
    "# Tarihi dizilerin yarısından fazlası TRT 1 de yayınlanmıs\n",
    "tarihi_verileri = df[df[\"Tarihi\"] == 1]\n",
    "pie_tarihi = tarihi_verileri[\"Platform\"].value_counts()\n",
    "channels_tarihi = pie_tarihi.index\n",
    "numbers_tarihi = pie_tarihi.values\n",
    "\n",
    "fig_tarihi = px.pie(values=numbers_tarihi, names=channels_tarihi)\n",
    "fig_tarihi.show()"
   ]
  },
  {
   "cell_type": "code",
   "execution_count": null,
   "id": "afabb4d3",
   "metadata": {},
   "outputs": [],
   "source": [
    "basarili_veriler = df[df[\"Sonuç\"] == \"Başarısız\"]\n",
    "pie_basarili = basarili_veriler[\"Platform\"].value_counts()\n",
    "channels_basarili = pie_basarili.index\n",
    "numbers_basarili = pie_basarili.values\n",
    "\n",
    "fig_basarili = px.pie(values=numbers_basarili, names=channels_basarili)\n",
    "fig_basarili.show()"
   ]
  },
  {
   "cell_type": "code",
   "execution_count": null,
   "id": "e69f9bf3",
   "metadata": {},
   "outputs": [],
   "source": [
    "top_channels = df['Platform'].value_counts().head(8)\n",
    "\n",
    "colors = ['blue', 'red', 'green', 'orange', 'darkcyan', 'darkmagenta', 'darkgoldenrod']\n",
    "top_channels.plot(kind='bar', figsize=(8, 6), color=colors)\n",
    "plt.xlabel('Kanal İsmi')\n",
    "plt.ylabel('Toplam Sayı')\n",
    "plt.xticks(rotation=45)\n",
    "plt.tight_layout()\n",
    "plt.savefig('en_cok_gecen_kanallar.png', dpi=300, bbox_inches='tight')\n",
    "plt.show()"
   ]
  },
  {
   "cell_type": "code",
   "execution_count": null,
   "id": "4fbcc702",
   "metadata": {},
   "outputs": [],
   "source": [
    "filtered_df = df[df['Yapım Şirketi'] != 'Unknown']\n",
    "\n",
    "top_channels = filtered_df['Yapım Şirketi'].value_counts().head(7)\n",
    "\n",
    "colors = ['blue', 'red', 'green', 'orange', 'darkcyan', 'darkmagenta', 'darkgoldenrod']\n",
    "top_channels.plot(kind='bar', figsize=(8, 6), color=colors)\n",
    "plt.xticks(rotation=45)\n",
    "plt.tight_layout()\n",
    "plt.savefig('en_cok_gecen_yapimsirketi.png', dpi=300, bbox_inches='tight')\n",
    "plt.show()"
   ]
  },
  {
   "cell_type": "code",
   "execution_count": null,
   "id": "a4322da8",
   "metadata": {},
   "outputs": [],
   "source": []
  }
 ],
 "metadata": {
  "kernelspec": {
   "display_name": "Python 3 (ipykernel)",
   "language": "python",
   "name": "python3"
  },
  "language_info": {
   "codemirror_mode": {
    "name": "ipython",
    "version": 3
   },
   "file_extension": ".py",
   "mimetype": "text/x-python",
   "name": "python",
   "nbconvert_exporter": "python",
   "pygments_lexer": "ipython3",
   "version": "3.11.4"
  }
 },
 "nbformat": 4,
 "nbformat_minor": 5
}
