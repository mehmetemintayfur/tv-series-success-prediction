{
 "cells": [
  {
   "cell_type": "code",
   "execution_count": null,
   "id": "7b78c5de",
   "metadata": {},
   "outputs": [],
   "source": [
    "import pandas as pd\n",
    "import numpy as np\n",
    "from collections import defaultdict\n",
    "\n",
    "dosya_yolu = 'turkish_tv_series.xlsx' \n",
    "df = pd.read_excel(dosya_yolu)\n"
   ]
  },
  {
   "cell_type": "code",
   "execution_count": null,
   "id": "e0f908d1",
   "metadata": {},
   "outputs": [],
   "source": [
    "# Yeterli bilgisi olmayan satırların silinmesi\n",
    "df = df[df['Dizi İsimleri'] != 0]\n",
    "df = df.reset_index(drop=True)\n",
    "\n",
    "# gösterim süresinin int e cevirilmesi ve boş değerlerin platform ortalaması ile doldurulması\n",
    "df['Gösterim Süresi'] = df['Gösterim Süresi'].replace(0, '0 dakika')\n",
    "df['Gösterim Süresi'] = df['Gösterim Süresi'].str.replace('dakika','')\n",
    "df['Gösterim Süresi'] = df['Gösterim Süresi'].str.replace('Dakika','')\n",
    "df['Gösterim Süresi'] = df['Gösterim Süresi'].apply(lambda  x: x.strip()).astype(int)\n",
    "platform_ortalamalari = df.groupby('Platform')['Gösterim Süresi'].mean().apply(np.ceil).astype(int).to_dict()\n",
    "for index, row in df.iterrows():\n",
    "    if row['Gösterim Süresi'] == 0:\n",
    "        platform = row['Platform']\n",
    "        ortalama = platform_ortalamalari[platform]\n",
    "        df.at[index, 'Gösterim Süresi'] = ortalama"
   ]
  },
  {
   "cell_type": "code",
   "execution_count": null,
   "id": "c655f819",
   "metadata": {},
   "outputs": [],
   "source": [
    "#aktörlerin basrol oldugu dizi sayısı bulunuyor ve ortalaması alınıyor\n",
    "actor_counts = defaultdict(int)\n",
    "\n",
    "for actors in df['Başroller']:\n",
    "    actor_list = actors.split(',')\n",
    "    for actor in actor_list:\n",
    "        actor_counts[actor] += 1\n",
    "\n",
    "df['Aktör Etkisi'] = df['Başroller'].apply(lambda x: sum(actor_counts[actor.strip()] for actor in x.split(',')) / len(x.split(',')))"
   ]
  },
  {
   "cell_type": "code",
   "execution_count": null,
   "id": "145dae2f",
   "metadata": {},
   "outputs": [],
   "source": [
    "with open('directors.txt', 'r') as dosya:\n",
    "    yonetmenler = dosya.readlines()\n",
    "\n",
    "yonetmenler = [yonetmen.strip() for yonetmen in yonetmenler]\n",
    "\n",
    "df['Award Winning Director'] = df['Yönetmen'].apply(lambda x: 1 if x in yonetmenler else 0)\n",
    "\n",
    "\n",
    "with open('actors.txt', 'r') as dosya2:\n",
    "    oyuncular = dosya2.readlines()\n",
    "\n",
    "oyuncular = [oyuncu.strip() for oyuncu in oyuncular]\n",
    "\n",
    "df['Award Winning Actor'] = df['Başroller'].apply(lambda x: 1 if any(oyunc in oyuncular for oyunc in x.split(',')) else 0)"
   ]
  },
  {
   "cell_type": "code",
   "execution_count": null,
   "id": "5844a689",
   "metadata": {},
   "outputs": [],
   "source": [
    "for index, row in df.iterrows():\n",
    "    if row['Sezon Sayısı'] == 1:\n",
    "        df.loc[index, 'Sonuç'] = 'Başarısız'\n",
    "    elif row['Sezon Sayısı'] == 2:\n",
    "        df.loc[index, 'Sonuç'] = 'Kısmen Başarılı'\n",
    "    elif row['Sezon Sayısı'] < 5:\n",
    "        df.loc[index, 'Sonuç'] = 'Başarılı'\n",
    "    elif row['Sezon Sayısı'] < 10:\n",
    "        df.loc[index, 'Sonuç'] = 'Kısmen Olgun'\n",
    "    elif row['Sezon Sayısı'] >= 10:\n",
    "        df.loc[index, 'Sonuç'] = 'Olgun'"
   ]
  },
  {
   "cell_type": "code",
   "execution_count": null,
   "id": "c26b1fda",
   "metadata": {},
   "outputs": [],
   "source": [
    "df.drop('Türler', axis=1, inplace=True)\n",
    "df.drop('Sezon Sayısı', axis=1, inplace=True)\n",
    "df.drop('Sezondaki Ortalama Bölüm Sayısı', axis=1, inplace=True)"
   ]
  },
  {
   "cell_type": "code",
   "execution_count": null,
   "id": "bbe1fdfd",
   "metadata": {},
   "outputs": [],
   "source": []
  },
  {
   "cell_type": "code",
   "execution_count": null,
   "id": "afda7792",
   "metadata": {},
   "outputs": [],
   "source": []
  },
  {
   "cell_type": "code",
   "execution_count": null,
   "id": "64a2b266",
   "metadata": {},
   "outputs": [],
   "source": [
    "df = df[df['Award Winning Actor'] == 1]\n",
    "df.head(34)"
   ]
  },
  {
   "cell_type": "code",
   "execution_count": null,
   "id": "e1d72a3d",
   "metadata": {},
   "outputs": [],
   "source": [
    "'''filtre = df['Yönetmen'] == 'Çağan Irmak'\n",
    "gosterim_sayilari = df[filtre]['Gösterim Süresi']\n",
    "print(gosterim_sayilari)'''"
   ]
  },
  {
   "cell_type": "code",
   "execution_count": null,
   "id": "603b790a",
   "metadata": {},
   "outputs": [],
   "source": [
    "'''filtre = df['Sezon Sayısı'] > 3\n",
    "gosterim_sayilari = df[filtre]['Yönetmen']\n",
    "print(gosterim_sayilari)'''"
   ]
  },
  {
   "cell_type": "code",
   "execution_count": null,
   "id": "7995fd2d",
   "metadata": {},
   "outputs": [],
   "source": [
    "#en_cok_tekrar_eden = df['Sezon Sayısı'].value_counts()\n",
    "##print(en_cok_tekrar_eden)"
   ]
  },
  {
   "cell_type": "code",
   "execution_count": null,
   "id": "4e596c96",
   "metadata": {},
   "outputs": [],
   "source": [
    "award_winnnig_director = ['Osman Sınav','Nihat Durak','Çağatay Tosun','Uluç Bayraktar','Cem Karcı','Altan Dönmez','Ali Bilgin','Çağrı Vila Lostuvalı','Yağız Alp Akaydın','Emre Kabakuşak','Yusuf Pirhasan']\n",
    "\n",
    "award_winning_actors = ['Kadir İnanır','Mehmet Ali Alabora','Haluk Bilginer','Tamer Karadağlı','Mehmet Aslantuğ','Özcan Deniz','Timuçin Esen','Halit Ergenç','Halil Ergün','Kıvanç Tatlıtuğ','Kenan İmirzalıoğlu','Erkan Petekkaya','Çağatay Ulusoy','İlker Kaleli','Tolga Sarıtaş','Aras Bulut İynemli','Taner Ölmez','Çağlar Ertuğrul','Kaan Urgancıoğlu','Salih Bademci','Hande Ataizi','Meltem Cumbul','Türkan Şoray','Gülben Ergen','Selda Alkor','Pınar Altuğ','Sanem Çelik','Bergüzar Korel','Bennu Yıldırımlar','Beren Saat','Ayça Bingöl','Meryem Uzerli','Serenay Sarıkaya','Burçin Terzioğlu','Aslı Enver','Özge Özpirinçci','Ebru Şahin','Ezgi Mola','Merve Dizdar','Pınar Deniz']\n",
    "\n",
    "with open('directors.txt', 'w') as dosya:\n",
    "    for director in award_winnnig_director:\n",
    "        dosya.write(director + '\\n')\n",
    "        \n",
    "with open('actors.txt', 'w') as dosya:\n",
    "    for actor in award_winning_actors:\n",
    "        dosya.write(actor + '\\n')\n",
    "        "
   ]
  },
  {
   "cell_type": "code",
   "execution_count": null,
   "id": "10124966",
   "metadata": {},
   "outputs": [],
   "source": [
    "#yönetmenlerin ortalama sezon sayıları alınıyor\n",
    "director_effect = df.groupby('Yönetmen')['Sezon Sayısı'].mean().to_dict()\n",
    "df['Yönetmen Etkisi'] = df['Yönetmen'].map(director_effect)"
   ]
  }
 ],
 "metadata": {
  "kernelspec": {
   "display_name": "Python 3 (ipykernel)",
   "language": "python",
   "name": "python3"
  },
  "language_info": {
   "codemirror_mode": {
    "name": "ipython",
    "version": 3
   },
   "file_extension": ".py",
   "mimetype": "text/x-python",
   "name": "python",
   "nbconvert_exporter": "python",
   "pygments_lexer": "ipython3",
   "version": "3.11.4"
  }
 },
 "nbformat": 4,
 "nbformat_minor": 5
}
