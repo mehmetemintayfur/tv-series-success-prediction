{
 "cells": [
  {
   "cell_type": "code",
   "execution_count": 1,
   "id": "7b78c5de",
   "metadata": {},
   "outputs": [],
   "source": [
    "import pandas as pd\n",
    "import numpy as np\n",
    "from collections import defaultdict\n",
    "\n",
    "dosya_yolu = 'turkish_tv_series.xlsx' \n",
    "df = pd.read_excel(dosya_yolu)\n"
   ]
  },
  {
   "cell_type": "code",
   "execution_count": 2,
   "id": "8704f91b",
   "metadata": {},
   "outputs": [],
   "source": [
    "# Yeterli bilgisi olmayan satırların silinmesi\n",
    "df = df[df['Dizi İsimleri'] != 0]\n",
    "df = df.reset_index(drop=True)\n",
    "\n",
    "# gösterim süresinin int e cevirilmesi ve boş değerlerin platform ortalaması ile doldurulması\n",
    "df['Gösterim Süresi'] = df['Gösterim Süresi'].replace(0, '0 dakika')\n",
    "df['Gösterim Süresi'] = df['Gösterim Süresi'].str.replace('dakika','')\n",
    "df['Gösterim Süresi'] = df['Gösterim Süresi'].str.replace('Dakika','')\n",
    "df['Gösterim Süresi'] = df['Gösterim Süresi'].apply(lambda  x: x.strip()).astype(int)\n",
    "platform_ortalamalari = df.groupby('Platform')['Gösterim Süresi'].mean().apply(np.ceil).astype(int).to_dict()\n",
    "for index, row in df.iterrows():\n",
    "    if row['Gösterim Süresi'] == 0:\n",
    "        platform = row['Platform']\n",
    "        ortalama = platform_ortalamalari[platform]\n",
    "        df.at[index, 'Gösterim Süresi'] = ortalama"
   ]
  },
  {
   "cell_type": "code",
   "execution_count": null,
   "id": "c655f819",
   "metadata": {},
   "outputs": [],
   "source": [
    "#aktörlerin basrol oldugu dizi sayısı bulunuyor ve ortalaması alınıyor\n",
    "actor_counts = defaultdict(int)\n",
    "\n",
    "for actors in df['Başroller']:\n",
    "    actor_list = actors.split(',')\n",
    "    for actor in actor_list:\n",
    "        actor_counts[actor] += 1\n",
    "\n",
    "df['Aktör Etkisi'] = df['Başroller'].apply(lambda x: sum(actor_counts[actor.strip()] for actor in x.split(',')) / len(x.split(',')))"
   ]
  },
  {
   "cell_type": "code",
   "execution_count": 3,
   "id": "2d7bf625",
   "metadata": {},
   "outputs": [],
   "source": [
    "with open('award_winning_directors.txt', 'r') as dosya:\n",
    "    yonetmenler = dosya.readlines()\n",
    "\n",
    "yonetmenler = [yonetmen.strip() for yonetmen in yonetmenler]\n",
    "\n",
    "df['Ödüllü Yönetmen'] = df['Yönetmen'].apply(lambda x: 1 if x in yonetmenler else 0)\n",
    "\n",
    "\n",
    "with open('award_winning_actors.txt', 'r') as dosya2:\n",
    "    oyuncular = dosya2.readlines()\n",
    "\n",
    "oyuncular = [oyuncu.strip() for oyuncu in oyuncular]\n",
    "\n",
    "df['Ödüllü Aktör'] = df['Başroller'].apply(lambda x: 1 if any(oyunc in oyuncular for oyunc in x.split(',')) else 0)\n",
    "\n",
    "with open('exported_series.txt', 'r') as dosya3:\n",
    "    diziler = dosya3.readlines()\n",
    "\n",
    "diziler = [dizi.strip() for dizi in diziler]\n",
    "\n",
    "df['İhraç'] = df['Dizi İsimleri'].apply(lambda x: 1 if any(diz in diziler for diz in x.split(',')) else 0)"
   ]
  },
  {
   "cell_type": "code",
   "execution_count": 4,
   "id": "a475c0cc",
   "metadata": {},
   "outputs": [],
   "source": [
    "for index, row in df.iterrows():\n",
    "    if row['Sezon Sayısı'] == 1:\n",
    "        df.loc[index, 'Sonuç'] = 'Başarısız'\n",
    "    elif row['Sezon Sayısı'] == 2:\n",
    "        df.loc[index, 'Sonuç'] = 'Kısmen Başarılı'\n",
    "    elif row['Sezon Sayısı'] < 5:\n",
    "        df.loc[index, 'Sonuç'] = 'Başarılı'\n",
    "    elif row['Sezon Sayısı'] < 10:\n",
    "        df.loc[index, 'Sonuç'] = 'Kısmen Olgun'\n",
    "    elif row['Sezon Sayısı'] >= 10:\n",
    "        df.loc[index, 'Sonuç'] = 'Olgun'"
   ]
  },
  {
   "cell_type": "code",
   "execution_count": null,
   "id": "025e2987",
   "metadata": {},
   "outputs": [],
   "source": [
    "df.drop('Türler', axis=1, inplace=True)\n",
    "df.drop('Sezon Sayısı', axis=1, inplace=True)\n",
    "df.drop('Sezondaki Ortalama Bölüm Sayısı', axis=1, inplace=True)\n",
    "df.drop('Bölüm Sayısı', axis=1, inplace=True)"
   ]
  },
  {
   "cell_type": "code",
   "execution_count": 7,
   "id": "afda7792",
   "metadata": {},
   "outputs": [],
   "source": [
    "dosya_yolu = 'tv_series_dataset.csv'\n",
    "df.to_csv(dosya_yolu)"
   ]
  }
 ],
 "metadata": {
  "kernelspec": {
   "display_name": "Python 3 (ipykernel)",
   "language": "python",
   "name": "python3"
  },
  "language_info": {
   "codemirror_mode": {
    "name": "ipython",
    "version": 3
   },
   "file_extension": ".py",
   "mimetype": "text/x-python",
   "name": "python",
   "nbconvert_exporter": "python",
   "pygments_lexer": "ipython3",
   "version": "3.11.4"
  }
 },
 "nbformat": 4,
 "nbformat_minor": 5
}
