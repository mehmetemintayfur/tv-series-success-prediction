{
 "cells": [
  {
   "cell_type": "code",
   "execution_count": null,
   "id": "48d31843",
   "metadata": {},
   "outputs": [],
   "source": [
    "import pandas as pd\n",
    "import numpy as np\n",
    "\n",
    "dosya_yolu = 'turkish_tv_series.xlsx' \n",
    "df = pd.read_excel(dosya_yolu)"
   ]
  },
  {
   "cell_type": "code",
   "execution_count": null,
   "id": "71d6b8cd",
   "metadata": {},
   "outputs": [],
   "source": [
    "# Yeterli Bilgisi Olmayan Satırları Silinmesi\n",
    "df = df[df['Dizi İsimleri'] != 0]\n",
    "\n",
    "# Gösterim Süresinin int'e Çevirilmesi\n",
    "df['Gösterim Süresi'] = df['Gösterim Süresi'].replace(0, '0 dakika')\n",
    "df['Gösterim Süresi'] = df['Gösterim Süresi'].str.replace('dakika','')\n",
    "df['Gösterim Süresi'] = df['Gösterim Süresi'].str.replace('Dakika','')\n",
    "df['Gösterim Süresi'] = df['Gösterim Süresi'].apply(lambda  x: x.strip()).astype(int)\n",
    "platform_ortalamalari = df.groupby('Platform')['Gösterim Süresi'].mean().apply(np.ceil).astype(int).to_dict()\n",
    "for index, row in df.iterrows():\n",
    "    print(index)\n",
    "    if row['Gösterim Süresi'] == 0:\n",
    "        platform = row['Platform']\n",
    "        ortalama = platform_ortalamalari[platform]\n",
    "        df.at[index, 'Gösterim Süresi'] = ortalama\n"
   ]
  }
 ],
 "metadata": {
  "kernelspec": {
   "display_name": "Python 3 (ipykernel)",
   "language": "python",
   "name": "python3"
  },
  "language_info": {
   "codemirror_mode": {
    "name": "ipython",
    "version": 3
   },
   "file_extension": ".py",
   "mimetype": "text/x-python",
   "name": "python",
   "nbconvert_exporter": "python",
   "pygments_lexer": "ipython3",
   "version": "3.11.5"
  }
 },
 "nbformat": 4,
 "nbformat_minor": 5
}
