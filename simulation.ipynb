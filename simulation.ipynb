{
 "cells": [
  {
   "cell_type": "code",
   "execution_count": 1,
   "id": "54532195",
   "metadata": {},
   "outputs": [],
   "source": [
    "import pandas as pd\n",
    "from sklearn.model_selection import train_test_split\n",
    "from sklearn.ensemble import RandomForestClassifier\n",
    "import category_encoders as ce\n",
    "import os\n",
    "import random\n",
    "from sklearn.metrics import mean_squared_error\n",
    "from sklearn.svm import SVC\n",
    "from sklearn.ensemble import AdaBoostClassifier\n",
    "from sklearn.tree import DecisionTreeClassifier\n",
    "import pickle"
   ]
  },
  {
   "cell_type": "code",
   "execution_count": 6,
   "id": "a8aecd98",
   "metadata": {},
   "outputs": [],
   "source": [
    "def RandomForest(data):\n",
    "    data_folder = 'Data/'\n",
    "    year = data[\"Yapım Yılı\"]\n",
    "    file_name = f\"{year}.csv\"\n",
    "    file_path = os.path.join(data_folder, file_name)\n",
    "    \n",
    "    \n",
    "    new_df = pd.DataFrame([data])\n",
    "    encoder2 = ce.OrdinalEncoder(cols=['Dizi İsimleri','Platform','Yapım Şirketi'])\n",
    "    new_df_encoded = encoder2.fit_transform(new_df)\n",
    "   \n",
    "    if os.path.exists(file_path):\n",
    "        df = pd.read_csv(file_path)\n",
    "        \n",
    "        df.drop('Yönetmen', axis=1, inplace=True)\n",
    "        df.drop('Senarist', axis=1, inplace=True)\n",
    "        df.drop('Başroller', axis=1, inplace=True)\n",
    "        df.drop('Besteci', axis=1, inplace=True)\n",
    "        df.drop('Türler', axis=1, inplace=True)\n",
    "        df.drop('Unnamed: 0', axis=1, inplace=True)\n",
    "        df.drop('Unnamed: 0.1', axis=1, inplace=True)\n",
    "        df = df.reset_index(drop=True)\n",
    "        \n",
    "        X = df.drop(['Sonuç'], axis=1)\n",
    "        y = df['Sonuç']\n",
    "        \n",
    "        encoder = ce.OrdinalEncoder(cols=['Dizi İsimleri','Platform','Yapım Şirketi'])\n",
    "        X_encoded = encoder.fit_transform(X)\n",
    "        \n",
    "        class_counts = y.value_counts()\n",
    "        min_class_samples = class_counts.min()\n",
    "        \n",
    "        test_indices = []\n",
    "        for c in y.unique():\n",
    "            class_indices = df[df['Sonuç'] == c].index.tolist()\n",
    "            if len(class_indices) >= min_class_samples:\n",
    "                random_indices = random.sample(class_indices, min_class_samples)\n",
    "            else:\n",
    "                random_indices = random.choices(class_indices, k=min_class_samples)\n",
    "            test_indices.extend(random_indices)\n",
    "        \n",
    "        X_test = X_encoded.loc[test_indices]\n",
    "        y_test = y.loc[test_indices]\n",
    "        X_train, _, y_train, _ = train_test_split(X_encoded.drop(test_indices), y.drop(test_indices), test_size=0.2, random_state=42)\n",
    "        \n",
    "        model = RandomForestClassifier()\n",
    "        \n",
    "        model.fit(X_train, y_train)\n",
    "        \n",
    "        # Test edilen verileri göster\n",
    "        test_data = df.loc[test_indices]\n",
    "        #print(f\"Test data for year {year}:\\n{test_data}\")\n",
    "        \n",
    "        accuracy = model.score(X_test, y_test)\n",
    "        print(f\"Accuracy for year {year}: {accuracy}\")\n",
    "        prediction = model.predict(new_df_encoded)\n",
    "        print(f\"Random Forest Prediction for given data: {prediction}\")\n",
    "    \n",
    "    \n",
    "def AdaBoost(data):\n",
    "    new_df = pd.DataFrame([data])\n",
    "    encoder2 = ce.OrdinalEncoder(cols=['Dizi İsimleri','Platform','Yapım Şirketi'])\n",
    "    new_df_encoded = encoder2.fit_transform(new_df)\n",
    "    year = data[\"Yapım Yılı\"]\n",
    "    with open('AdaBoost_2020.pkl', 'rb') as file:\n",
    "        model = pickle.load(file)\n",
    "    prediction = model.predict(new_df_encoded)\n",
    "    print(f\"Ada Boost Prediction for given data: {prediction}\")\n",
    "    \n",
    "    \n",
    "def DecisionTree(data):\n",
    "    year = data[\"Yapım Yılı\"]"
   ]
  },
  {
   "cell_type": "code",
   "execution_count": 10,
   "id": "53537a7a",
   "metadata": {},
   "outputs": [
    {
     "name": "stdout",
     "output_type": "stream",
     "text": [
      "Accuracy for year 2018: 0.6\n",
      "Random Forest Prediction for given data: ['Kısmen Başarılı']\n",
      "Ada Boost Prediction for given data: ['Kısmen Başarılı']\n"
     ]
    }
   ],
   "source": [
    "def predict(data):\n",
    "    RandomForest(data)\n",
    "    AdaBoost(data)\n",
    "    DecisionTree(data)\n",
    "    \n",
    "data = {'Dizi İsimleri': 'Yeni Dizi','Yapım Yılı':2018,\n",
    "            'Platform': 'Kanal D','Aile':0,'Dram':1,'Komedi':1,'Aksiyon':0,'Polisiye':0,'Tarihi':0,'Romantik':0,\n",
    "            'Yapım Şirketi': 'Ay Yapım','Gösterim Süresi':90,\n",
    "            'Başrollerin Sezon Ortalaması':1.87,\n",
    "            'Yönetmen Sezon Ortalaması':2.1,'Senarist Sezon Ortalaması':2,'Ödüllü Yönetmen':1,'Ödüllü Aktör':0,'İhraç':0,\n",
    "            'Ödüllü Dizi':0\n",
    "            }\n",
    "predict(data)"
   ]
  },
  {
   "cell_type": "code",
   "execution_count": null,
   "id": "a9c5c207",
   "metadata": {},
   "outputs": [],
   "source": []
  }
 ],
 "metadata": {
  "kernelspec": {
   "display_name": "Python 3 (ipykernel)",
   "language": "python",
   "name": "python3"
  },
  "language_info": {
   "codemirror_mode": {
    "name": "ipython",
    "version": 3
   },
   "file_extension": ".py",
   "mimetype": "text/x-python",
   "name": "python",
   "nbconvert_exporter": "python",
   "pygments_lexer": "ipython3",
   "version": "3.11.4"
  }
 },
 "nbformat": 4,
 "nbformat_minor": 5
}
