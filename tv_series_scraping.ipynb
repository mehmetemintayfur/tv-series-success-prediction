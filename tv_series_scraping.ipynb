{
 "cells": [
  {
   "cell_type": "markdown",
   "id": "98c4fade",
   "metadata": {},
   "source": [
    "# Library Import"
   ]
  },
  {
   "cell_type": "code",
   "execution_count": null,
   "id": "597673a9",
   "metadata": {},
   "outputs": [],
   "source": [
    "from bs4 import BeautifulSoup\n",
    "import requests\n",
    "import pandas as pd"
   ]
  },
  {
   "cell_type": "markdown",
   "id": "31d168a1",
   "metadata": {},
   "source": [
    "# Request to Wikipedia"
   ]
  },
  {
   "cell_type": "code",
   "execution_count": null,
   "id": "3858900d",
   "metadata": {},
   "outputs": [],
   "source": [
    "request = requests.get(\"https://tr.wikipedia.org/wiki/T%C3%BCrk_dizileri_listesi\")\n",
    "html = request.text\n",
    "parsedHTML = BeautifulSoup(html,\"html.parser\")\n",
    "tablolar = parsedHTML.find_all(\"table\",attrs={\"class\":\"wikitable sortable\"})"
   ]
  },
  {
   "cell_type": "markdown",
   "id": "e3f25038",
   "metadata": {},
   "source": [
    "# TV Series Links Collection"
   ]
  },
  {
   "cell_type": "code",
   "execution_count": null,
   "id": "74fc8450",
   "metadata": {},
   "outputs": [],
   "source": [
    "serieNames = []\n",
    "years = []\n",
    "numbersOfEpisode = []\n",
    "seasons = []\n",
    "status = []\n",
    "platforms = []\n",
    "urls = []\n",
    "linkvar = 0\n",
    "linkyok = 0\n",
    "\n",
    "tv_kanallari = [\"redlink\", \"TRT_1\", \"Flash_TV\", \"TGRT\", \"Kanal_1\", \"Cine5\", \n",
    "    \"Habert%C3%BCrk\", \"TNT\", \"atv\", \"GA%C4%B0N\", \"YouTube\", \"Show_TV\", \n",
    "    \"FOX_(T%C3%BCrkiye)\", \"BeIN_Connect_(T%C3%BCrkiye)\", \"Beyaz_TV\", \n",
    "    \"Star_TV\", \"Kanal_D\", \"TV8\", \"Atv\", \"Kanal_7\", \"Samanyolu_TV\", \n",
    "    \"Turkmax\", \"Fox_(T%C3%BCrkiye)\"]\n",
    "\n",
    "for i in range(1,21):\n",
    "    table = tablolar[i]\n",
    "    maintable = table.find(\"tbody\")\n",
    "    row = maintable.find_all(\"tr\")\n",
    "    for j in range(2,len(row)):\n",
    "        output = row[j].text \n",
    "        url = row[j].find_all('a',href=True)\n",
    "        if len(url) > 0:\n",
    "            if not any(kanal in url[0]['href'] for kanal in tv_kanallari):\n",
    "                urls.append(url[0]['href']) \n",
    "                linkvar = linkvar + 1\n",
    "            else:\n",
    "                urls.append(\"unknown\")\n",
    "                linkyok = linkyok + 1\n",
    "        else :\n",
    "            urls.append(\"unknown\")\n",
    "            linkyok = linkyok + 1\n",
    "        satirlar = output.split('\\n')  # Satırlara ayırma\n",
    "        serieNames.append(satirlar[1])  # İlk satır\n",
    "        numbersOfEpisode.append(satirlar[3])\n",
    "        seasons.append(satirlar[5])\n",
    "        status.append(satirlar[7])\n",
    "        platforms.append(satirlar[9])\n",
    "        years.append(2024-i)\n",
    "\n",
    "\n",
    "#bolum sayisi olmayan dizileri tablodan cikartiyoruz\n",
    "for i, deger in enumerate(numbersOfEpisode):\n",
    "    if deger == '' or deger == '-':\n",
    "        del serieNames[i]\n",
    "        del numbersOfEpisode[i]\n",
    "        del seasons[i]\n",
    "        del status[i]\n",
    "        del platforms[i]\n",
    "        del urls[i]\n",
    "        del years[i]\n",
    "\n",
    "#sezon sayisi olmayan dizileri tablodan cikartiyoruz\n",
    "for i, deger in enumerate(seasons):\n",
    "    if deger == '' or deger == '-':\n",
    "        del serieNames[i]\n",
    "        del numbersOfEpisode[i]\n",
    "        del seasons[i]\n",
    "        del status[i]\n",
    "        del platforms[i]\n",
    "        del urls[i]\n",
    "        del years[i]\n"
   ]
  },
  {
   "cell_type": "markdown",
   "id": "3c29bdbf",
   "metadata": {},
   "source": [
    "# Request to TV Series Links and Collection Some Infos"
   ]
  },
  {
   "cell_type": "code",
   "execution_count": null,
   "id": "46bf87f5",
   "metadata": {},
   "outputs": [],
   "source": [
    "diziSayisi = len(serieNames)\n",
    "types = []\n",
    "for i in range(diziSayisi):\n",
    "    serieTypes = []\n",
    "    if urls[i] != \"unknown\":\n",
    "        request2 = requests.get(\"https://tr.wikipedia.org\"+urls[i])\n",
    "        print(\"https://tr.wikipedia.org\"+urls[i])\n",
    "        html2 = request2.text\n",
    "        parsedHTML2 = BeautifulSoup(html2,\"html.parser\")\n",
    "        detailstable = parsedHTML2.find_all(\"table\",attrs={\"class\":\"infobox\"})\n",
    "        tür = detailstable[0].find_all(\"td\",attrs={\"class\":\"infobox-data\"})\n",
    "        bütüntürler = tür[1].find_all(\"a\")\n",
    "        türsayisi = len(bütüntürler)\n",
    "        for j in range(türsayisi):\n",
    "            serieTypes.append(bütüntürler[j].text)\n",
    "        types.append(serieTypes)\n",
    "    else:\n",
    "        types.append(['unknown'])"
   ]
  },
  {
   "cell_type": "code",
   "execution_count": null,
   "id": "d05d2863",
   "metadata": {},
   "outputs": [],
   "source": [
    "diziSayisi = len(serieNames)\n",
    "trScriptwriter = []\n",
    "trDirector = []\n",
    "trCompany = []\n",
    "trLeadRoles = []\n",
    "trDisplayTime = []\n",
    "trComposer = []\n",
    "for i in range(diziSayisi):\n",
    "    if urls[i] != \"unknown\":\n",
    "        request3 = requests.get(\"https://tr.wikipedia.org\"+urls[i])\n",
    "        html3 = request3.text\n",
    "        parsedHTML3 = BeautifulSoup(html3,\"html.parser\")\n",
    "        detailstable3 = parsedHTML3.find_all(\"table\",attrs={\"class\":\"infobox\"})\n",
    "        k = detailstable3[0].find_all(\"tr\")\n",
    "        flag1 = False\n",
    "        flag2 = False\n",
    "        flag3 = False\n",
    "        flag4 = False\n",
    "        flag5 = False\n",
    "        flag6 = False\n",
    "        for j in range(len(k)):\n",
    "            x = k[j].find(\"th\")\n",
    "            if x != None and x.text == \"Yönetmen\":\n",
    "                trDirector.append(j)\n",
    "                flag1 = True\n",
    "            elif x != None and x.text == \"Yapım şirketi\":\n",
    "                trCompany.append(j)\n",
    "                flag2 = True\n",
    "            elif x != None and x.text == \"Başrol\":\n",
    "                trLeadRoles.append(j)\n",
    "                flag3 = True\n",
    "            elif x != None and x.text == \"Gösterim süresi\":\n",
    "                trDisplayTime.append(j)\n",
    "                flag4 = True\n",
    "            elif x != None and x.text == \"Besteci\":\n",
    "                trComposer.append(j)\n",
    "                flag5 = True\n",
    "            elif x != None and x.text == \"Senarist\":\n",
    "                trScriptwriter.append(j)\n",
    "                flag6 = True\n",
    "        if flag1 == False:\n",
    "            trDirector.append(-1)\n",
    "        if flag2 == False:\n",
    "            trCompany.append(-1)\n",
    "        if flag3 == False:\n",
    "            trLeadRoles.append(-1)\n",
    "        if flag4 == False:\n",
    "            trDisplayTime.append(-1)\n",
    "        if flag5 == False:\n",
    "            trComposer.append(-1)\n",
    "        if flag6 == False:\n",
    "            trScriptwriter.append(-1)\n",
    "    else:\n",
    "        trDirector.append(-1)\n",
    "        trCompany.append(-1)\n",
    "        trLeadRoles.append(-1)\n",
    "        trDisplayTime.append(-1)\n",
    "        trComposer.append(-1)\n",
    "        trScriptwriter.append(-1)"
   ]
  }
 ],
 "metadata": {
  "kernelspec": {
   "display_name": "Python 3 (ipykernel)",
   "language": "python",
   "name": "python3"
  },
  "language_info": {
   "codemirror_mode": {
    "name": "ipython",
    "version": 3
   },
   "file_extension": ".py",
   "mimetype": "text/x-python",
   "name": "python",
   "nbconvert_exporter": "python",
   "pygments_lexer": "ipython3",
   "version": "3.11.4"
  }
 },
 "nbformat": 4,
 "nbformat_minor": 5
}
