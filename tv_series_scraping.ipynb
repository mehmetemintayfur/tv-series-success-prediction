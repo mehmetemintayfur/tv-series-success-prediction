{
 "cells": [
  {
   "cell_type": "markdown",
   "id": "98c4fade",
   "metadata": {},
   "source": [
    "# Library Import"
   ]
  },
  {
   "cell_type": "code",
   "execution_count": null,
   "id": "597673a9",
   "metadata": {},
   "outputs": [],
   "source": [
    "from bs4 import BeautifulSoup\n",
    "import requests\n",
    "import pandas as pd"
   ]
  },
  {
   "cell_type": "markdown",
   "id": "31d168a1",
   "metadata": {},
   "source": [
    "# Request to Wikipedia"
   ]
  },
  {
   "cell_type": "code",
   "execution_count": null,
   "id": "3858900d",
   "metadata": {},
   "outputs": [],
   "source": [
    "request = requests.get(\"https://tr.wikipedia.org/wiki/T%C3%BCrk_dizileri_listesi\")\n",
    "html = request.text\n",
    "parsedHTML = BeautifulSoup(html,\"html.parser\")\n",
    "tablolar = parsedHTML.find_all(\"table\",attrs={\"class\":\"wikitable sortable\"})"
   ]
  },
  {
   "cell_type": "markdown",
   "id": "e3f25038",
   "metadata": {},
   "source": [
    "# TV Series Links Collection"
   ]
  },
  {
   "cell_type": "code",
   "execution_count": null,
   "id": "74fc8450",
   "metadata": {},
   "outputs": [],
   "source": [
    "serieNames = []\n",
    "years = []\n",
    "numbersOfEpisode = []\n",
    "seasons = []\n",
    "status = []\n",
    "platforms = []\n",
    "urls = []\n",
    "linkvar = 0\n",
    "linkyok = 0\n",
    "\n",
    "tv_kanallari = [\"redlink\", \"TRT_1\", \"Flash_TV\", \"TGRT\", \"Kanal_1\", \"Cine5\", \n",
    "    \"Habert%C3%BCrk\", \"TNT\", \"atv\", \"GA%C4%B0N\", \"YouTube\", \"Show_TV\", \n",
    "    \"FOX_(T%C3%BCrkiye)\", \"BeIN_Connect_(T%C3%BCrkiye)\", \"Beyaz_TV\", \n",
    "    \"Star_TV\", \"Kanal_D\", \"TV8\", \"Atv\", \"Kanal_7\", \"Samanyolu_TV\", \n",
    "    \"Turkmax\", \"Fox_(T%C3%BCrkiye)\"]\n",
    "\n",
    "for i in range(1,21):\n",
    "    table = tablolar[i]\n",
    "    maintable = table.find(\"tbody\")\n",
    "    row = maintable.find_all(\"tr\")\n",
    "    for j in range(2,len(row)):\n",
    "        output = row[j].text \n",
    "        url = row[j].find_all('a',href=True)\n",
    "        if len(url) > 0:\n",
    "            if not any(kanal in url[0]['href'] for kanal in tv_kanallari):\n",
    "                urls.append(url[0]['href']) \n",
    "                linkvar = linkvar + 1\n",
    "            else:\n",
    "                urls.append(\"unknown\")\n",
    "                linkyok = linkyok + 1\n",
    "        else :\n",
    "            urls.append(\"unknown\")\n",
    "            linkyok = linkyok + 1\n",
    "        satirlar = output.split('\\n')  # Satırlara ayırma\n",
    "        serieNames.append(satirlar[1])  # İlk satır\n",
    "        numbersOfEpisode.append(satirlar[3])\n",
    "        seasons.append(satirlar[5])\n",
    "        status.append(satirlar[7])\n",
    "        platforms.append(satirlar[9])\n",
    "        years.append(2024-i)\n",
    "\n",
    "\n",
    "#bolum sayisi olmayan dizileri tablodan cikartiyoruz\n",
    "for i, deger in enumerate(numbersOfEpisode):\n",
    "    if deger == '' or deger == '-':\n",
    "        del serieNames[i]\n",
    "        del numbersOfEpisode[i]\n",
    "        del seasons[i]\n",
    "        del status[i]\n",
    "        del platforms[i]\n",
    "        del urls[i]\n",
    "        del years[i]\n",
    "\n",
    "#sezon sayisi olmayan dizileri tablodan cikartiyoruz\n",
    "for i, deger in enumerate(seasons):\n",
    "    if deger == '' or deger == '-':\n",
    "        del serieNames[i]\n",
    "        del numbersOfEpisode[i]\n",
    "        del seasons[i]\n",
    "        del status[i]\n",
    "        del platforms[i]\n",
    "        del urls[i]\n",
    "        del years[i]\n"
   ]
  },
  {
   "cell_type": "code",
   "execution_count": null,
   "id": "88be3904",
   "metadata": {},
   "outputs": [],
   "source": []
  }
 ],
 "metadata": {
  "kernelspec": {
   "display_name": "Python 3 (ipykernel)",
   "language": "python",
   "name": "python3"
  },
  "language_info": {
   "codemirror_mode": {
    "name": "ipython",
    "version": 3
   },
   "file_extension": ".py",
   "mimetype": "text/x-python",
   "name": "python",
   "nbconvert_exporter": "python",
   "pygments_lexer": "ipython3",
   "version": "3.11.4"
  }
 },
 "nbformat": 4,
 "nbformat_minor": 5
}
